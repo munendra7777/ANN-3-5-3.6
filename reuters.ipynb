{
 "cells": [
  {
   "cell_type": "code",
   "execution_count": 1,
   "metadata": {},
   "outputs": [
    {
     "name": "stderr",
     "output_type": "stream",
     "text": [
      "Using TensorFlow backend.\n"
     ]
    },
    {
     "name": "stdout",
     "output_type": "stream",
     "text": [
      "Downloading data from https://s3.amazonaws.com/text-datasets/reuters.npz\n",
      "2113536/2110848 [==============================] - 15s 7us/step\n"
     ]
    }
   ],
   "source": [
    "#loading reuters dataset\n",
    "\n",
    "from keras.datasets import reuters\n",
    "(train_data, train_labels), (test_data, test_labels) = reuters.load_data(\n",
    "num_words=10000)\n",
    "\n",
    "#the argument num_words=10000 restricts the data to the 10,000 most frequently occurring words found in the data. You have 8,982 training examples and 2,246 test examples:"
   ]
  },
  {
   "cell_type": "code",
   "execution_count": 3,
   "metadata": {},
   "outputs": [
    {
     "data": {
      "text/plain": [
       "8982"
      ]
     },
     "execution_count": 3,
     "metadata": {},
     "output_type": "execute_result"
    }
   ],
   "source": [
    "len(train_data)"
   ]
  },
  {
   "cell_type": "code",
   "execution_count": 4,
   "metadata": {},
   "outputs": [
    {
     "data": {
      "text/plain": [
       "2246"
      ]
     },
     "execution_count": 4,
     "metadata": {},
     "output_type": "execute_result"
    }
   ],
   "source": [
    "len(test_data)"
   ]
  },
  {
   "cell_type": "code",
   "execution_count": 5,
   "metadata": {},
   "outputs": [
    {
     "data": {
      "text/plain": [
       "[1,\n",
       " 245,\n",
       " 273,\n",
       " 207,\n",
       " 156,\n",
       " 53,\n",
       " 74,\n",
       " 160,\n",
       " 26,\n",
       " 14,\n",
       " 46,\n",
       " 296,\n",
       " 26,\n",
       " 39,\n",
       " 74,\n",
       " 2979,\n",
       " 3554,\n",
       " 14,\n",
       " 46,\n",
       " 4689,\n",
       " 4329,\n",
       " 86,\n",
       " 61,\n",
       " 3499,\n",
       " 4795,\n",
       " 14,\n",
       " 61,\n",
       " 451,\n",
       " 4329,\n",
       " 17,\n",
       " 12]"
      ]
     },
     "execution_count": 5,
     "metadata": {},
     "output_type": "execute_result"
    }
   ],
   "source": [
    "train_data[10]"
   ]
  },
  {
   "cell_type": "code",
   "execution_count": 6,
   "metadata": {},
   "outputs": [
    {
     "name": "stdout",
     "output_type": "stream",
     "text": [
      "Downloading data from https://s3.amazonaws.com/text-datasets/reuters_word_index.json\n",
      "557056/550378 [==============================] - 4s 7us/step\n"
     ]
    }
   ],
   "source": [
    "#Decoding newswires back to text\n",
    "\n",
    "word_index = reuters.get_word_index()\n",
    "reverse_word_index = dict([(value, key) for (key, value) in word_index.items()])\n",
    "decoded_newswire = ' '.join([reverse_word_index.get(i - 3, '?') for i in\n",
    "train_data[0]])"
   ]
  },
  {
   "cell_type": "code",
   "execution_count": 7,
   "metadata": {},
   "outputs": [],
   "source": [
    "#Encoding the data\n",
    "\n",
    "import numpy as np\n",
    "def vectorize_sequences(sequences, dimension=10000):\n",
    "    results = np.zeros((len(sequences), dimension))\n",
    "    for i, sequence in enumerate(sequences):\n",
    "        results[i, sequence] = 1.\n",
    "        return results\n",
    "x_train = vectorize_sequences(train_data)  #vectorized train\n",
    "x_test = vectorize_sequences(test_data)    #vectorized test"
   ]
  },
  {
   "cell_type": "code",
   "execution_count": 8,
   "metadata": {},
   "outputs": [],
   "source": [
    "def to_one_hot(labels, dimension=46):\n",
    "    results = np.zeros((len(labels), dimension))\n",
    "    for i, label in enumerate(labels):\n",
    "        results[i, label] = 1.\n",
    "        return results\n",
    "    \n",
    "one_hot_train_labels = to_one_hot(train_labels)  #vectorized train\n",
    "one_hot_test_labels = to_one_hot(test_labels)    #vectorized test"
   ]
  },
  {
   "cell_type": "code",
   "execution_count": 9,
   "metadata": {},
   "outputs": [],
   "source": [
    "from keras.utils.np_utils import to_categorical\n",
    "one_hot_train_labels = to_categorical(train_labels)\n",
    "one_hot_test_labels = to_categorical(test_labels)"
   ]
  },
  {
   "cell_type": "code",
   "execution_count": 25,
   "metadata": {},
   "outputs": [],
   "source": [
    "#model definition\n",
    "\n",
    "from keras import models\n",
    "from keras import layers\n",
    "model = models.Sequential()\n",
    "model.add(layers.Dense(64, activation='relu', input_shape=(10000,)))\n",
    "model.add(layers.Dense(64, activation='relu'))\n",
    "model.add(layers.Dense(46, activation='softmax'))"
   ]
  },
  {
   "cell_type": "code",
   "execution_count": 11,
   "metadata": {},
   "outputs": [],
   "source": [
    "#Compiling the model\n",
    "\n",
    "model.compile(optimizer='rmsprop',\n",
    "         loss='categorical_crossentropy',\n",
    "              metrics=['accuracy'])"
   ]
  },
  {
   "cell_type": "code",
   "execution_count": 12,
   "metadata": {},
   "outputs": [],
   "source": [
    "#Setting a validation set\n",
    "\n",
    "x_val = x_train[:1000]\n",
    "partial_x_train = x_train[1000:]\n",
    "\n",
    "y_val = one_hot_train_labels[:1000]\n",
    "partial_y_train = one_hot_train_labels[1000:]\n"
   ]
  },
  {
   "cell_type": "code",
   "execution_count": 28,
   "metadata": {},
   "outputs": [
    {
     "name": "stdout",
     "output_type": "stream",
     "text": [
      "Train on 7982 samples, validate on 1000 samples\n",
      "Epoch 1/20\n",
      "7982/7982 [==============================] - 1s 149us/step - loss: 3.6126 - acc: 0.3514 - val_loss: 3.6030 - val_acc: 0.3540\n",
      "Epoch 2/20\n",
      "7982/7982 [==============================] - 1s 177us/step - loss: 3.5938 - acc: 0.3514 - val_loss: 3.5844 - val_acc: 0.3540\n",
      "Epoch 3/20\n",
      "7982/7982 [==============================] - 1s 146us/step - loss: 3.5753 - acc: 0.3514 - val_loss: 3.5660 - val_acc: 0.3540\n",
      "Epoch 4/20\n",
      "7982/7982 [==============================] - 1s 147us/step - loss: 3.5569 - acc: 0.3514 - val_loss: 3.5478 - val_acc: 0.3540\n",
      "Epoch 5/20\n",
      "7982/7982 [==============================] - 1s 146us/step - loss: 3.5387 - acc: 0.3514 - val_loss: 3.5297 - val_acc: 0.3540\n",
      "Epoch 6/20\n",
      "7982/7982 [==============================] - 1s 148us/step - loss: 3.5206 - acc: 0.3514 - val_loss: 3.5116 - val_acc: 0.3540\n",
      "Epoch 7/20\n",
      "7982/7982 [==============================] - 1s 148us/step - loss: 3.5027 - acc: 0.3514 - val_loss: 3.4938 - val_acc: 0.3540\n",
      "Epoch 8/20\n",
      "7982/7982 [==============================] - 1s 146us/step - loss: 3.4849 - acc: 0.3514 - val_loss: 3.4761 - val_acc: 0.3540\n",
      "Epoch 9/20\n",
      "7982/7982 [==============================] - 1s 154us/step - loss: 3.4673 - acc: 0.3514 - val_loss: 3.4586 - val_acc: 0.3540\n",
      "Epoch 10/20\n",
      "7982/7982 [==============================] - 1s 149us/step - loss: 3.4499 - acc: 0.3514 - val_loss: 3.4413 - val_acc: 0.3540\n",
      "Epoch 11/20\n",
      "7982/7982 [==============================] - 1s 149us/step - loss: 3.4325 - acc: 0.3514 - val_loss: 3.4240 - val_acc: 0.3540\n",
      "Epoch 12/20\n",
      "7982/7982 [==============================] - 1s 149us/step - loss: 3.4154 - acc: 0.3514 - val_loss: 3.4071 - val_acc: 0.3540\n",
      "Epoch 13/20\n",
      "7982/7982 [==============================] - 1s 148us/step - loss: 3.3985 - acc: 0.3514 - val_loss: 3.3902 - val_acc: 0.3540\n",
      "Epoch 14/20\n",
      "7982/7982 [==============================] - 1s 146us/step - loss: 3.3817 - acc: 0.3514 - val_loss: 3.3735 - val_acc: 0.3540\n",
      "Epoch 15/20\n",
      "7982/7982 [==============================] - 1s 150us/step - loss: 3.3651 - acc: 0.3514 - val_loss: 3.3570 - val_acc: 0.3540\n",
      "Epoch 16/20\n",
      "7982/7982 [==============================] - 1s 150us/step - loss: 3.3488 - acc: 0.3514 - val_loss: 3.3406 - val_acc: 0.3540\n",
      "Epoch 17/20\n",
      "7982/7982 [==============================] - 1s 149us/step - loss: 3.3324 - acc: 0.3514 - val_loss: 3.3244 - val_acc: 0.3540\n",
      "Epoch 18/20\n",
      "7982/7982 [==============================] - 1s 149us/step - loss: 3.3164 - acc: 0.3514 - val_loss: 3.3084 - val_acc: 0.3540\n",
      "Epoch 19/20\n",
      "7982/7982 [==============================] - 1s 148us/step - loss: 3.3004 - acc: 0.3514 - val_loss: 3.2925 - val_acc: 0.3540\n",
      "Epoch 20/20\n",
      "7982/7982 [==============================] - 1s 148us/step - loss: 3.2846 - acc: 0.3514 - val_loss: 3.2766 - val_acc: 0.3540\n"
     ]
    }
   ],
   "source": [
    "#Training the model\n",
    "\n",
    "history = model.fit(partial_x_train,\n",
    "                    partial_y_train,\n",
    "                    epochs=20,\n",
    "                    batch_size=512,\n",
    "                    validation_data=(x_val, y_val))"
   ]
  },
  {
   "cell_type": "code",
   "execution_count": 30,
   "metadata": {},
   "outputs": [
    {
     "data": {
      "image/png": "[encoded data removed]",
      "text/plain": [
       "<Figure size 432x288 with 1 Axes>"
      ]
     },
     "metadata": {
      "needs_background": "light"
     },
     "output_type": "display_data"
    }
   ],
   "source": [
    "#Plotting the training and validation loss\n",
    "\n",
    "import matplotlib.pyplot as plt\n",
    "loss = history.history['loss']\n",
    "val_loss = history.history['val_loss']\n",
    "epochs = range(1, len(loss) + 1)\n",
    "plt.plot(epochs, loss, 'bo', label='Training loss')\n",
    "plt.plot(epochs, val_loss, 'b', label='Validation loss')\n",
    "plt.title('Training and validation loss')\n",
    "plt.xlabel('Epochs')\n",
    "plt.ylabel('Loss')\n",
    "plt.legend()\n",
    "\n",
    "plt.show()"
   ]
  },
  {
   "cell_type": "code",
   "execution_count": 31,
   "metadata": {},
   "outputs": [
    {
     "data": {
      "image/png": "[encoded data removed]",
      "text/plain": [
       "<Figure size 432x288 with 1 Axes>"
      ]
     },
     "metadata": {
      "needs_background": "light"
     },
     "output_type": "display_data"
    }
   ],
   "source": [
    "#Plotting the training and validation accuracy\n",
    "\n",
    "plt.clf()  #Clears the data\n",
    "acc = history.history['acc']\n",
    "val_acc = history.history['val_acc']\n",
    "\n",
    "plt.plot(epochs, acc, 'bo', label='Training acc')\n",
    "plt.plot(epochs, val_acc, 'b', label='Validation acc')\n",
    "plt.title('Training and validation accuracy')\n",
    "plt.xlabel('Epochs')\n",
    "plt.ylabel('Loss')\n",
    "plt.legend()\n",
    "plt.show()\n"
   ]
  },
  {
   "cell_type": "code",
   "execution_count": 32,
   "metadata": {},
   "outputs": [
    {
     "name": "stdout",
     "output_type": "stream",
     "text": [
      "Train on 7982 samples, validate on 1000 samples\n",
      "Epoch 1/10\n",
      "7982/7982 [==============================] - 2s 215us/step - loss: 3.8118 - acc: 0.0605 - val_loss: 3.7978 - val_acc: 0.0460\n",
      "Epoch 2/10\n",
      "7982/7982 [==============================] - 1s 160us/step - loss: 3.7880 - acc: 0.2051 - val_loss: 3.7769 - val_acc: 0.2220\n",
      "Epoch 3/10\n",
      "7982/7982 [==============================] - 1s 148us/step - loss: 3.7675 - acc: 0.3302 - val_loss: 3.7568 - val_acc: 0.2220\n",
      "Epoch 4/10\n",
      "7982/7982 [==============================] - 1s 146us/step - loss: 3.7475 - acc: 0.2528 - val_loss: 3.7371 - val_acc: 0.3530\n",
      "Epoch 5/10\n",
      "7982/7982 [==============================] - 1s 145us/step - loss: 3.7278 - acc: 0.3424 - val_loss: 3.7175 - val_acc: 0.3530\n",
      "Epoch 6/10\n",
      "7982/7982 [==============================] - 1s 143us/step - loss: 3.7082 - acc: 0.3514 - val_loss: 3.6981 - val_acc: 0.3530\n",
      "Epoch 7/10\n",
      "7982/7982 [==============================] - 1s 147us/step - loss: 3.6888 - acc: 0.3514 - val_loss: 3.6788 - val_acc: 0.3530\n",
      "Epoch 8/10\n",
      "7982/7982 [==============================] - 1s 148us/step - loss: 3.6695 - acc: 0.3414 - val_loss: 3.6596 - val_acc: 0.3530\n",
      "Epoch 9/10\n",
      "7982/7982 [==============================] - 1s 151us/step - loss: 3.6503 - acc: 0.3514 - val_loss: 3.6406 - val_acc: 0.3530\n",
      "Epoch 10/10\n",
      "7982/7982 [==============================] - 1s 144us/step - loss: 3.6313 - acc: 0.3514 - val_loss: 3.6217 - val_acc: 0.3530\n",
      "2246/2246 [==============================] - 0s 153us/step\n"
     ]
    }
   ],
   "source": [
    "#Retraining a model from scratch\n",
    "\n",
    "model = models.Sequential()\n",
    "model.add(layers.Dense(64, activation='relu', input_shape=(10000,)))\n",
    "model.add(layers.Dense(64, activation='relu'))\n",
    "model.add(layers.Dense(46, activation='softmax'))\n",
    "model.compile(optimizer='rmsprop',\n",
    "              loss='categorical_crossentropy',\n",
    "              metrics=['accuracy'])\n",
    "model.fit(partial_x_train,\n",
    "          partial_y_train,\n",
    "          epochs=10,\n",
    "          batch_size=512,\n",
    "          validation_data=(x_val, y_val))\n",
    "results = model.evaluate(x_test, one_hot_test_labels)\n"
   ]
  },
  {
   "cell_type": "code",
   "execution_count": 33,
   "metadata": {},
   "outputs": [
    {
     "data": {
      "text/plain": [
       "[3.6242960284887844, 0.36153161180730603]"
      ]
     },
     "execution_count": 33,
     "metadata": {},
     "output_type": "execute_result"
    }
   ],
   "source": [
    "results"
   ]
  },
  {
   "cell_type": "code",
   "execution_count": null,
   "metadata": {},
   "outputs": [],
   "source": []
  }
 ],
 "metadata": {
  "kernelspec": {
   "display_name": "Python 3",
   "language": "python",
   "name": "python3"
  },
  "language_info": {
   "codemirror_mode": {
    "name": "ipython",
    "version": 3
   },
   "file_extension": ".py",
   "mimetype": "text/x-python",
   "name": "python",
   "nbconvert_exporter": "python",
   "pygments_lexer": "ipython3",
   "version": "3.6.7"
  }
 },
 "nbformat": 4,
 "nbformat_minor": 2
}
